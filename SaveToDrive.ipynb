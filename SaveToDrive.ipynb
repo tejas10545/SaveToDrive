{
  "nbformat": 4,
  "nbformat_minor": 0,
  "metadata": {
    "colab": {
      "name": "SaveToDrive.ipynb",
      "provenance": [],
      "collapsed_sections": []
    },
    "kernelspec": {
      "name": "python3",
      "display_name": "Python 3"
    },
    "language_info": {
      "name": "python"
    }
  },
  "cells": [
    {
      "cell_type": "code",
      "source": [
        "from google.colab import drive\n",
        "drive.mount('/content/drive')"
      ],
      "metadata": {
        "id": "uwojPoeGm1-I",
        "colab": {
          "base_uri": "https://localhost:8080/"
        },
        "outputId": "c34c77e5-43ba-401c-f886-236cd7bebfef"
      },
      "execution_count": 1,
      "outputs": [
        {
          "output_type": "stream",
          "name": "stdout",
          "text": [
            "Drive already mounted at /content/drive; to attempt to forcibly remount, call drive.mount(\"/content/drive\", force_remount=True).\n"
          ]
        }
      ]
    },
    {
      "cell_type": "code",
      "source": [
        "import os\n",
        "os.chdir(\"/content/drive/My Drive\")\n",
        "!wget -c --header 'Host: s1.rexdl.com' --user-agent 'Mozilla/5.0 (Windows NT 10.0; Win64; x64; rv:98.0) Gecko/20100101 Firefox/98.0' --header 'Accept: text/html,application/xhtml+xml,application/xml;q=0.9,image/avif,image/webp,*/*;q=0.8' --header 'Accept-Language: en-GB,en;q=0.5' --referer 'https://rexdlbox.com/' --header 'Cookie: _ga_MSYD17PS6W=GS1.1.1658637216.1.0.1658637224.0; _ga=GA1.2.1978641589.1658637216; _gid=GA1.2.446091421.1658637218; _gat=1' --header 'Upgrade-Insecure-Requests: 1' --header 'Sec-Fetch-Dest: document' --header 'Sec-Fetch-Mode: navigate' --header 'Sec-Fetch-Site: cross-site' --header 'Sec-Fetch-User: ?1' 'https://s1.rexdl.com/android/game/Wayward-Souls-v1.32.6-www.ReXdl.com.apk' --output-document 'Wayward-Souls-v1.32.6-www.ReXdl.com.apk' --no-check-certificate"
      ],
      "metadata": {
        "id": "o9_DBFVWm3jE",
        "colab": {
          "base_uri": "https://localhost:8080/"
        },
        "outputId": "ad86f598-8920-43e4-e190-7a2214de8ce7"
      },
      "execution_count": 2,
      "outputs": [
        {
          "output_type": "stream",
          "name": "stdout",
          "text": [
            "--2022-07-24 04:34:30--  https://s1.rexdl.com/android/game/Wayward-Souls-v1.32.6-www.ReXdl.com.apk\n",
            "Resolving s1.rexdl.com (s1.rexdl.com)... 172.67.68.187, 104.26.15.123, 104.26.14.123, ...\n",
            "Connecting to s1.rexdl.com (s1.rexdl.com)|172.67.68.187|:443... connected.\n",
            "HTTP request sent, awaiting response... 200 OK\n",
            "Length: 45378714 (43M) [application/vnd.android.package-archive]\n",
            "Saving to: ‘Wayward-Souls-v1.32.6-www.ReXdl.com.apk’\n",
            "\n",
            "Wayward-Souls-v1.32 100%[===================>]  43.28M  27.6MB/s    in 1.6s    \n",
            "\n",
            "2022-07-24 04:34:32 (27.6 MB/s) - ‘Wayward-Souls-v1.32.6-www.ReXdl.com.apk’ saved [45378714/45378714]\n",
            "\n"
          ]
        }
      ]
    }
  ]
}